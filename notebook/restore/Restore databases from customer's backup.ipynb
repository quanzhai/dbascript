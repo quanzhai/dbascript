{
    "metadata": {
        "kernelspec": {
            "name": "SQL",
            "display_name": "SQL",
            "language": "sql"
        },
        "language_info": {
            "name": "sql",
            "version": ""
        }
    },
    "nbformat_minor": 2,
    "nbformat": 4,
    "cells": [
        {
            "cell_type": "markdown",
            "source": [
                "# Restore databases from customer's backup"
            ],
            "metadata": {
                "azdata_cell_guid": "367699d3-85e7-4d62-9c0b-5fa1a3a81506"
            }
        },
        {
            "cell_type": "markdown",
            "source": [
                "### Place all backup files in a folder which is reachable from SQL instance\r\n",
                "\r\n",
                "e.g.  E:\\Data\\MSSQLSERVER\\Backups\\UserDB on SQL server."
            ],
            "metadata": {
                "azdata_cell_guid": "a9f74506-36e2-45ea-9ef9-7de467b09819"
            }
        },
        {
            "cell_type": "markdown",
            "source": [
                "Restore backup by using SSMS if it is a single database.\r\n",
                "\r\n",
                "If there are multiple databases script can be used.\r\n",
                "\r\n",
                " Make sure there are enough disk space for all databases. "
            ],
            "metadata": {
                "azdata_cell_guid": "d5cc5815-751f-492f-9dc8-ef804a4f4870"
            }
        },
        {
            "cell_type": "code",
            "source": [
                "Restore-DbaDatabase -SqlInstance spc-sql-s01701\\mssql\t-Path E:\\Data\\MSSQLSERVER\\Backups\\UserDB"
            ],
            "metadata": {
                "azdata_cell_guid": "6426d6f5-dc67-4bdd-a0bb-81e8597db85d"
            },
            "outputs": [],
            "execution_count": null
        },
        {
            "cell_type": "markdown",
            "source": [
                "Update db owner"
            ],
            "metadata": {
                "azdata_cell_guid": "bed4ee27-b0b6-4e49-a458-cd0e4c4604f9"
            }
        },
        {
            "cell_type": "code",
            "source": [
                "-- Generate the scripts to make sa account as owner for all the databases\r\n",
                "\tSELECT 'ALTER AUTHORIZATION ON DATABASE::' + QUOTENAME(name) + ' TO [bf_dbowner];'\r\n",
                "\tfrom sys.databases\r\n",
                "\twhere name not in ('master', 'model', 'tempdb', 'msdb', 'bf_dba')\r\n",
                "\tAND suser_sname(owner_sid) <> 'sa'"
            ],
            "metadata": {
                "azdata_cell_guid": "fd9dda4d-592e-4fc5-83cf-4624f56601d6"
            },
            "outputs": [],
            "execution_count": 9
        },
        {
            "cell_type": "markdown",
            "source": [
                "Update statistics"
            ],
            "metadata": {
                "azdata_cell_guid": "8c576a59-b8bc-44f5-92fe-9656daccb827"
            }
        },
        {
            "cell_type": "code",
            "source": [
                "EXECUTE [dbo].[IndexOptimize]\n",
                "    @Databases = 'UBAS' ,\n",
                "    @FragmentationLow = NULL ,\n",
                "    @FragmentationMedium = NULL ,\n",
                "    @FragmentationHigh = NULL ,\n",
                "    @UpdateStatistics = 'ALL' ,\n",
                "    @OnlyModifiedStatistics = N'Y' ,\n",
                "    @LogToTable = N'Y';"
            ],
            "metadata": {
                "azdata_cell_guid": "6fc84d6f-725b-4947-8a67-b1f34ace68ac"
            },
            "outputs": [],
            "execution_count": null
        },
        {
            "cell_type": "markdown",
            "source": [
                "Do the intigrity check"
            ],
            "metadata": {
                "azdata_cell_guid": "fdd83a49-442d-4345-8720-5e0c33e980b6"
            }
        }
    ]
}